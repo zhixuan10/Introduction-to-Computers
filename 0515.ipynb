{
  "nbformat": 4,
  "nbformat_minor": 0,
  "metadata": {
    "colab": {
      "provenance": [],
      "authorship_tag": "ABX9TyPji7GsmWBnxMXpMGp7ydMR",
      "include_colab_link": true
    },
    "kernelspec": {
      "name": "python3",
      "display_name": "Python 3"
    },
    "language_info": {
      "name": "python"
    }
  },
  "cells": [
    {
      "cell_type": "markdown",
      "metadata": {
        "id": "view-in-github",
        "colab_type": "text"
      },
      "source": [
        "<a href=\"https://colab.research.google.com/github/zhixuan10/Introduction-to-Computers/blob/main/0515.ipynb\" target=\"_parent\"><img src=\"https://colab.research.google.com/assets/colab-badge.svg\" alt=\"Open In Colab\"/></a>"
      ]
    },
    {
      "cell_type": "code",
      "execution_count": 7,
      "metadata": {
        "colab": {
          "base_uri": "https://localhost:8080/"
        },
        "id": "j3eN-Muwdy6u",
        "outputId": "42da1506-8d9d-4ccc-e54a-39b549dccb39"
      },
      "outputs": [
        {
          "output_type": "stream",
          "name": "stdout",
          "text": [
            "今天會下雨嗎?: y\n",
            "出門記得帶傘!\n"
          ]
        }
      ],
      "source": [
        "rain = str(input(\"今天會下雨嗎?: \"))\n",
        "if rain == \"Y\":\n",
        "  print(\"出門記得帶傘!\")\n",
        "elif rain == \"y\":\n",
        "  print(\"出門記得帶傘!\")\n",
        "else:\n",
        "  print(\"不用帶傘\")"
      ]
    },
    {
      "cell_type": "code",
      "source": [
        "體溫 = int(input('體溫: '))\n",
        "if 體溫 >= 37.5:\n",
        "    print('體溫過高!')\n",
        "elif 體溫 >= 37:\n",
        "    print('體溫略高!')\n",
        "elif 體溫 >= 34:\n",
        "    print('體溫正常!')\n",
        "elif 體溫 <= 34:\n",
        "    print('體溫異常,請重新量測!')"
      ],
      "metadata": {
        "colab": {
          "base_uri": "https://localhost:8080/"
        },
        "id": "SBVz3Ovod4bO",
        "outputId": "1d92bbe2-7835-4891-e9e3-e7b6737ae424"
      },
      "execution_count": 8,
      "outputs": [
        {
          "output_type": "stream",
          "name": "stdout",
          "text": [
            "體溫: 36\n",
            "體溫正常!\n"
          ]
        }
      ]
    },
    {
      "cell_type": "code",
      "source": [
        "score = int(input(\"score: \"))\n",
        "if score >= 90:\n",
        "    print('Grade is: A')\n",
        "elif score >= 80:\n",
        "    print('Grade is: B')\n",
        "elif score >= 70:\n",
        "    print('Grade is: C')\n",
        "elif score >= 60:\n",
        "    print('Grade is: D')\n",
        "else:\n",
        "    print('Grade is: E')"
      ],
      "metadata": {
        "colab": {
          "base_uri": "https://localhost:8080/"
        },
        "id": "p2nObMZtd55U",
        "outputId": "adc6d438-8eb9-4d24-8ea3-dda1cde27704"
      },
      "execution_count": 9,
      "outputs": [
        {
          "output_type": "stream",
          "name": "stdout",
          "text": [
            "score: 92\n",
            "Grade is: A\n"
          ]
        }
      ]
    },
    {
      "cell_type": "code",
      "source": [
        "month = int(input(\"請輸入月份: \"))\n",
        "if month == 3 and 4 and 5:\n",
        "  print(month,'月是春天!')\n",
        "elif month == 6 and 7 and 8:\n",
        "  print(month,'月是夏天!')\n",
        "elif month == 9 and 10 and 11:\n",
        "  print(month,'月是秋天!')\n",
        "elif month == 12 and 1 and 2:\n",
        "  print(month,'月是冬天!')\n",
        "else:\n",
        "  print('月份不再範圍內')"
      ],
      "metadata": {
        "colab": {
          "base_uri": "https://localhost:8080/"
        },
        "id": "rXOSOo35d_ME",
        "outputId": "117770cd-512b-4766-9a49-966d5df4b5a0"
      },
      "execution_count": 10,
      "outputs": [
        {
          "output_type": "stream",
          "name": "stdout",
          "text": [
            "請輸入月份: 12\n",
            "12 月是冬天!\n"
          ]
        }
      ]
    },
    {
      "cell_type": "code",
      "source": [
        "revenue = int(input(\"請輸入今年收入淨額:\"))\n",
        "if revenue >= 2000000:\n",
        " print('付稅金額:',revenue*0.3,'元')\n",
        "elif revenue >= 1000000:\n",
        " print('付稅金額:',revenue*0.21,'元')\n",
        "elif revenue >= 600000:\n",
        " print('付稅金額:',revenue*0.13,'元')\n",
        "elif revenue >= 300000:\n",
        " print('付稅金額:',revenue*0.06,'元')\n",
        "else:\n",
        " print('付稅金額: 0 元')"
      ],
      "metadata": {
        "colab": {
          "base_uri": "https://localhost:8080/"
        },
        "id": "wHd0hRIRfPY9",
        "outputId": "447544ec-2acf-40d0-c485-3d80146fbe71"
      },
      "execution_count": 11,
      "outputs": [
        {
          "output_type": "stream",
          "name": "stdout",
          "text": [
            "請輸入今年收入淨額:2000000\n",
            "付稅金額: 600000.0 元\n"
          ]
        }
      ]
    }
  ]
}